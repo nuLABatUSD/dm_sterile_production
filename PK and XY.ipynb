{
 "cells": [
  {
   "cell_type": "code",
   "execution_count": 28,
   "id": "e4b84635",
   "metadata": {},
   "outputs": [],
   "source": [
    "import numpy as np\n",
    "from classy import Class\n",
    "from Francisco import trapezoid, right_rectangle, factors, xy_values\n",
    "import scipy.interpolate as sp\n",
    "import matplotlib.pyplot as plt"
   ]
  },
  {
   "cell_type": "code",
   "execution_count": 2,
   "id": "79646dfd",
   "metadata": {},
   "outputs": [],
   "source": [
    "M_sol = 1.989e30 # solar mass in kg\n",
    "Mpc = 3.086e22 # Mpc in m\n",
    "c=np.logspace(-11.3,-5, 40)\n",
    "kvec = np.logspace(-4,np.log10(100),100)\n",
    "measured_omegacdm=.1188\n",
    "Sig_8 = 0.811\n",
    "A_s = 2.1e-9"
   ]
  },
  {
   "cell_type": "code",
   "execution_count": 3,
   "id": "2c7c33b4",
   "metadata": {},
   "outputs": [],
   "source": [
    "commonsettings = {\n",
    "          'N_ncdm':1,\n",
    "          'use_ncdm_psd_files': 1,\n",
    "          'm_ncdm': 7100,\n",
    "          'T_ncdm':0.7,\n",
    "          'output':'mPk',\n",
    "          'P_k_max_1/Mpc':100.0,\n",
    "          # The next line should be uncommented fgor higher precision (but significantly slower running)\n",
    "          'ncdm_fluid_approximation':3,\n",
    "          # You may uncomment this line to get more info on the ncdm sector from Class:\n",
    "          'background_verbose':1,\n",
    "          'Maximum q':100\n",
    "         } "
   ]
  },
  {
   "cell_type": "code",
   "execution_count": 4,
   "id": "1987a569",
   "metadata": {},
   "outputs": [
    {
     "name": "stdout",
     "output_type": "stream",
     "text": [
      "['eps', 'f', 'eps_full', 'f_full', 'omega_s', 'a', 'T', 'Lep']\n"
     ]
    }
   ],
   "source": [
    "dat = np.load('1x0.00049x3e-09-data.npz')\n",
    "f = dat['f_full']\n",
    "\n",
    "print(dat.files)\n",
    "omega_h_h = dat['omega_s']\n",
    "a,b,c,d,e = xy_values('1x0.00049x3e-09-data.npz', 20)\n",
    "np.savetxt(\"Spec\", np.column_stack((a,b)))\n",
    "spec_file  = 'Spec'"
   ]
  },
  {
   "cell_type": "code",
   "execution_count": 5,
   "id": "3a73329a",
   "metadata": {},
   "outputs": [],
   "source": [
    "def ideal_sigma8 (spec_file, omega_h_h):\n",
    "    \n",
    "    NH = Class()\n",
    "        #use method .set() to \n",
    "    NH.set(commonsettings)\n",
    "    othersettings = { 'ncdm_psd_filenames': spec_file,\n",
    "                      'omega_cdm': measured_omegacdm - omega_h_h, \n",
    "                      'omega_ncdm': omega_h_h, \n",
    "                      'A_s': 2.1e-9,\n",
    "                    }\n",
    "\n",
    "    #use method .compute() to get data for my specific 'Spec-' file\n",
    "    NH.set(othersettings)\n",
    "    NH.compute()\n",
    "\n",
    "    Sigma8_value = NH.sigma8()\n",
    "    print(\"\",Sigma8_value,\"\")\n",
    "    \n",
    "    ideal_value = ((Sig_8)/(Sigma8_value))**2*(A_s)\n",
    "    \n",
    "    NH.struct_cleanup()\n",
    "    \n",
    "    return ideal_value"
   ]
  },
  {
   "cell_type": "code",
   "execution_count": 6,
   "id": "af02a564",
   "metadata": {},
   "outputs": [],
   "source": [
    "def make_Pk(spec_file,omega_h_h):\n",
    "    \n",
    "    othersettings = { 'ncdm_psd_filenames': spec_file,\n",
    "                      'omega_cdm': measured_omegacdm - omega_h_h, \n",
    "                      'omega_ncdm': omega_h_h, \n",
    "                      'A_s': ideal_sigma8(spec_file, omega_h_h),\n",
    "                    }\n",
    "    \n",
    "    for key, value in othersettings.items():\n",
    "        print(key, ' : ', value)\n",
    "    for key, value in commonsettings.items():\n",
    "        print(key, ' : ', value)\n",
    "    \n",
    "    # array of k values in 1/Mpc\n",
    "\n",
    "\n",
    "    NH = Class()\n",
    "    NH.set(commonsettings)\n",
    "    NH.set(othersettings)\n",
    "    NH.compute()\n",
    "    \n",
    "    new_sig8 = NH.sigma8()\n",
    "    pkNH = [] \n",
    "    \n",
    "        #MPk- Matter Power Spectrum\n",
    "    for k in kvec:\n",
    "        pkNH.append(NH.pk(k,0.))\n",
    "    h = NH.h()\n",
    "    NH.struct_cleanup()\n",
    "    \n",
    "\n",
    "    np.save(spec_file+ '-Pknew',np.array(pkNH))\n",
    "    np.save(spec_file+'-knew',kvec/h)\n",
    "    \n",
    "    return new_sig8"
   ]
  },
  {
   "cell_type": "markdown",
   "id": "f04c72b7",
   "metadata": {},
   "source": [
    "**With k = 20**"
   ]
  },
  {
   "cell_type": "code",
   "execution_count": 7,
   "id": "f18deb06",
   "metadata": {
    "scrolled": true
   },
   "outputs": [
    {
     "name": "stdout",
     "output_type": "stream",
     "text": [
      " 0.7866071721193716 \n",
      "ncdm_psd_filenames  :  Spec\n",
      "omega_cdm  :  0.05941682610033301\n",
      "omega_ncdm  :  0.05938317389966699\n",
      "A_s  :  2.2322621700046643e-09\n",
      "N_ncdm  :  1\n",
      "use_ncdm_psd_files  :  1\n",
      "m_ncdm  :  7100\n",
      "T_ncdm  :  0.7\n",
      "output  :  mPk\n",
      "P_k_max_1/Mpc  :  100.0\n",
      "ncdm_fluid_approximation  :  3\n",
      "background_verbose  :  1\n",
      "Maximum q  :  100\n",
      "CPU times: user 2min 17s, sys: 1.67 s, total: 2min 19s\n",
      "Wall time: 2min 19s\n"
     ]
    },
    {
     "data": {
      "text/plain": [
       "0.8109999999999996"
      ]
     },
     "execution_count": 7,
     "metadata": {},
     "output_type": "execute_result"
    }
   ],
   "source": [
    "%%time\n",
    "make_Pk(spec_file, omega_h_h)"
   ]
  },
  {
   "cell_type": "markdown",
   "id": "d8342562",
   "metadata": {},
   "source": [
    "**With k = 4**"
   ]
  },
  {
   "cell_type": "code",
   "execution_count": 8,
   "id": "d73011e3",
   "metadata": {},
   "outputs": [],
   "source": [
    "a,b,c,d,e = xy_values('1x0.00049x3e-09-data.npz', 4)"
   ]
  },
  {
   "cell_type": "code",
   "execution_count": 9,
   "id": "acbd7e3a",
   "metadata": {},
   "outputs": [],
   "source": [
    "np.savetxt(\"Spec\", np.column_stack((a,b)))\n",
    "spec_file  = 'Spec'"
   ]
  },
  {
   "cell_type": "code",
   "execution_count": 10,
   "id": "25d1ca7f",
   "metadata": {
    "scrolled": true
   },
   "outputs": [
    {
     "name": "stdout",
     "output_type": "stream",
     "text": [
      " 0.7537938931744148 \n",
      "ncdm_psd_filenames  :  Spec\n",
      "omega_cdm  :  0.05941682610033301\n",
      "omega_ncdm  :  0.05938317389966699\n",
      "A_s  :  2.430836639371758e-09\n",
      "N_ncdm  :  1\n",
      "use_ncdm_psd_files  :  1\n",
      "m_ncdm  :  7100\n",
      "T_ncdm  :  0.7\n",
      "output  :  mPk\n",
      "P_k_max_1/Mpc  :  100.0\n",
      "ncdm_fluid_approximation  :  3\n",
      "background_verbose  :  1\n",
      "Maximum q  :  100\n",
      "CPU times: user 4min 33s, sys: 4.28 s, total: 4min 37s\n",
      "Wall time: 4min 36s\n"
     ]
    },
    {
     "data": {
      "text/plain": [
       "0.8109999999999995"
      ]
     },
     "execution_count": 10,
     "metadata": {},
     "output_type": "execute_result"
    }
   ],
   "source": [
    "%%time\n",
    "make_Pk(spec_file, omega_h_h)"
   ]
  },
  {
   "cell_type": "code",
   "execution_count": 24,
   "id": "b8e12fbb",
   "metadata": {},
   "outputs": [],
   "source": [
    "\n",
    "def trap(f,x):\n",
    "    integral = 0\n",
    "    for i in range(1,len(f)):\n",
    "        integral += 0.5 * (f[i] + f[i-1]) * (x[i] - x[i-1])\n",
    "    return integral\n",
    "\n",
    "\n",
    "def Bella(k_vec,Pk_vec, M):\n",
    "    \n",
    "    def R(M):\n",
    "        c = 2.5\n",
    "        G = 6.67e-11 # m^3 / kg / s^2\n",
    "        H100 = 100 * (1000/Mpc) # km/s/Mpc -> 1/s\n",
    "        omegah2 = 0.1188\n",
    "\n",
    "        rhobar = omegah2 * 3 * H100**2 / (8 * np.pi * G) / M_sol * Mpc**3 # kg / m^3 -> M_sol / Mpc^3\n",
    "        return (3 * M / (4 * np.pi * rhobar * c**3))**(1/3) # Mpc\n",
    "    \n",
    "#    def W(k,R):\n",
    "#        return 3 / (k * R)**3 * (np.sin(k*R) - 3 * np.cos(k*R))\n",
    "    def W(k,R):\n",
    "        if np.isscalar(k):\n",
    "            if k * R > 1:\n",
    "                return 0\n",
    "            else:\n",
    "                return 1\n",
    "        else:\n",
    "            result = np.zeros(len(k))\n",
    "            for i in range(len(k)):\n",
    "                if k[i] * R < 1 and k[i+1] * R > 1:\n",
    "                    result[i] = (1 - k[i] * R)/(k[i+1]*R - k[i]*R)\n",
    "                elif k[i] * R < 1:\n",
    "                    result[i] = 1\n",
    "            return result\n",
    "\n",
    "    k_vals = np.array(k_vec)\n",
    "    Pk_vals = np.array(Pk_vec)\n",
    "    def S(M):\n",
    "        Rv = R(M)\n",
    "        \n",
    "        integrand = k_vals**2 * Pk_vals * W(k_vals, Rv)**2 / (2 * ( np.pi**2))\n",
    "        return trapezoid(integrand,k_vals)\n",
    "    \n",
    "    \n",
    "    \n",
    "    M0 = 3.2e12 # M_sol / h\n",
    "    P_spline  = sp.CubicSpline(k_vals,Pk_vals)\n",
    "    def dNdlnM(M):\n",
    "        Rv = R(M)\n",
    "        return 1 / 44.5 / (6 * np.pi**2) * (M0 / M) / Rv**3 / np.sqrt(2 * np.pi * ( S(M) - S(M0))) * P_spline(1/Rv)\n",
    "    \n",
    "    lnM_vals = np.linspace(np.log(1e8),np.log(M0))\n",
    "    print(\"R\",R(np.exp(lnM_vals)))\n",
    "    sv = np.zeros(len(lnM_vals)-1)\n",
    "    for i in range(len(sv)):\n",
    "        sv[i] = S(np.exp(lnM_vals[i]))- S(np.exp(lnM_vals[-1]))\n",
    "    \n",
    "    #plt.figure()\n",
    "    #plt.semilogy(lnM_vals[:-1],sv)\n",
    "    #plt.show()\n",
    "    #print(sv)\n",
    "    integrand = np.zeros(len(lnM_vals)-1)\n",
    "    for i in range(len(integrand)):\n",
    "        integrand[i] = dNdlnM(np.exp(lnM_vals[i]))\n",
    "    #print(integrand)\n",
    "    #plt.figure()\n",
    "    #plt.semilogy(lnM_vals[:-1],integrand)\n",
    "    #plt.show()\n",
    "    return trapezoid(integrand,lnM_vals[:-1])"
   ]
  },
  {
   "cell_type": "code",
   "execution_count": 31,
   "id": "3639b06f",
   "metadata": {},
   "outputs": [
    {
     "ename": "SyntaxError",
     "evalue": "invalid syntax (<ipython-input-31-42f1608264a9>, line 4)",
     "output_type": "error",
     "traceback": [
      "\u001b[0;36m  File \u001b[0;32m\"<ipython-input-31-42f1608264a9>\"\u001b[0;36m, line \u001b[0;32m4\u001b[0m\n\u001b[0;31m    for i in range(0, len(x)-1)\u001b[0m\n\u001b[0m                               ^\u001b[0m\n\u001b[0;31mSyntaxError\u001b[0m\u001b[0;31m:\u001b[0m invalid syntax\n"
     ]
    }
   ],
   "source": [
    "k_vec = np.load('Spec-knew.npy')\n",
    "Pk_vec = np.load('Spec-Pknew.npy')\n",
    "x = np.logspace(0,8)\n",
    "for i in range(0, len(x)-1):\n",
    "    \n",
    "    \n",
    "    \n",
    "    "
   ]
  },
  {
   "cell_type": "code",
   "execution_count": null,
   "id": "4c7a9846",
   "metadata": {},
   "outputs": [],
   "source": []
  }
 ],
 "metadata": {
  "kernelspec": {
   "display_name": "Python 3",
   "language": "python",
   "name": "python3"
  },
  "language_info": {
   "codemirror_mode": {
    "name": "ipython",
    "version": 3
   },
   "file_extension": ".py",
   "mimetype": "text/x-python",
   "name": "python",
   "nbconvert_exporter": "python",
   "pygments_lexer": "ipython3",
   "version": "3.7.3"
  }
 },
 "nbformat": 4,
 "nbformat_minor": 5
}
