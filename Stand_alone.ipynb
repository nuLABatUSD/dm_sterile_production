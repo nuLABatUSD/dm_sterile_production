{
 "cells": [
  {
   "cell_type": "code",
   "execution_count": 57,
   "id": "dbb33e69",
   "metadata": {},
   "outputs": [],
   "source": [
    "import numpy as np\n",
    "import matplotlib.pyplot as plt"
   ]
  },
  {
   "cell_type": "code",
   "execution_count": 58,
   "id": "15ee7dc4",
   "metadata": {},
   "outputs": [],
   "source": [
    "def trapezoid(x,y):\n",
    "    N=len(x)\n",
    "    summ = 0\n",
    "    for i in range(N-1):\n",
    "        I = 0.5*(y[i]+ y[i+1])*(x[i+1] - x[i])\n",
    "        summ = summ + I\n",
    "    return summ\n",
    "\n",
    "\n",
    "\n",
    "def right_rectangle(x, y,new_epsilon, new_fe, steps):\n",
    "    \n",
    "    m = steps + 1\n",
    "    area = trapezoid(new_epsilon[0:m],new_epsilon[0:m]**(2)*new_fe[0:m])\n",
    "    y[1] = (area)/((x[1] - x[0])*x[2]**2)\n",
    "    for i in range(1,len(x)-1):\n",
    "        m = steps*i\n",
    "        n = m + 5 \n",
    "        area = trapezoid(new_epsilon[m:n],new_epsilon[m:n]**(2)*new_fe[m:n])\n",
    "        y[i + 1] =(area)/((x[i + 1] - x[i])*x[i + 1]**2)\n",
    "    return y\n",
    "\n",
    "\n",
    "\n",
    "\n",
    "def factors(value, x):\n",
    "    tmp_lst = []\n",
    "    for i in range(1, value + 1):\n",
    "        if value % i == 0:\n",
    "            tmp_lst.append(i) \n",
    "    if x in tmp_lst: \n",
    "        return True\n",
    "    else:\n",
    "        \n",
    "        return False\n",
    "    \n",
    "    \n",
    "def xy_values(file_name, k):\n",
    "    \n",
    "    dat = np.load(file_name)\n",
    "    fe = dat['f_full']\n",
    "    epsilon = dat['eps_full']\n",
    "    \n",
    "    new_epsilon = np.zeros(len(epsilon) + 1)\n",
    "    new_epsilon[1:] = epsilon\n",
    "    new_fe = np.zeros(len(fe) + 1)\n",
    "    new_fe[1:] = fe\n",
    "    \n",
    "    value = epsilon.shape[0]\n",
    "    \n",
    "    a = factors(value, k)\n",
    "    \n",
    "    if a: \n",
    "        x = new_epsilon[::k]\n",
    "        y = np.zeros(len(x))\n",
    "\n",
    "        return x, right_rectangle(x, y, new_epsilon, new_fe, k), new_epsilon, new_fe\n",
    "        \n",
    "    else:   \n",
    "        raise Exception(str(k) +' is not a factor of ' + str(value))\n"
   ]
  },
  {
   "cell_type": "markdown",
   "id": "be60d3c6",
   "metadata": {},
   "source": [
    "**Looks self-contained w/ the plot. The XY function loads the x and y arrays neccesary to lot the number density spectrum**"
   ]
  },
  {
   "cell_type": "code",
   "execution_count": 59,
   "id": "5401c0e1",
   "metadata": {
    "scrolled": false
   },
   "outputs": [
    {
     "data": {
      "image/png": "[encoded data removed]",
      "text/plain": [
       "<Figure size 432x288 with 1 Axes>"
      ]
     },
     "metadata": {
      "needs_background": "light"
     },
     "output_type": "display_data"
    }
   ],
   "source": [
    "dat = np.load('1x0.00049x3e-09-data.npz')\n",
    "fe = dat['f_full']\n",
    "epsilon = dat['eps_full']\n",
    "\n",
    "a, b, c, d = xy_values('1x0.00049x3e-09-data.npz', 4)\n",
    "\n",
    "plt.figure()\n",
    "plt.plot(c, c**(2)*d)\n",
    "plt.plot(a, a**(2)*b)\n",
    "plt.xlabel('e^2f')\n",
    "plt.ylabel(\"f\")\n",
    "plt.show() ##proportional to a number density spectrum"
   ]
  },
  {
   "cell_type": "markdown",
   "id": "28ed383a",
   "metadata": {},
   "source": [
    "**KS-TEST & KS-STAT/ PLOTS BELOW**"
   ]
  },
  {
   "cell_type": "code",
   "execution_count": 60,
   "id": "fb0d7838",
   "metadata": {},
   "outputs": [],
   "source": [
    "x, y, w, v = xy_values('1x0.00049x3e-09-data.npz', 4) ##use this instance to test the function"
   ]
  },
  {
   "cell_type": "markdown",
   "id": "5c1aacc4",
   "metadata": {},
   "source": [
    "**MAKING THE K X_AXIS (FROM FACTORS OF 1000)**"
   ]
  },
  {
   "cell_type": "code",
   "execution_count": 61,
   "id": "1ad06f6b",
   "metadata": {},
   "outputs": [
    {
     "name": "stdout",
     "output_type": "stream",
     "text": [
      "[40, 50, 100, 125, 200, 250, 500, 1000]\n"
     ]
    }
   ],
   "source": [
    "k_values = []\n",
    "value = 1000\n",
    "deviation = []\n",
    "for i in range(1, value + 1):\n",
    "        if value % i == 0:\n",
    "            k_values.append(i)\n",
    "length = len(k_values)\n",
    "middle_index = length // 2\n",
    "first_half = k_values[:middle_index]\n",
    "second_half = k_values[middle_index:]\n",
    "print(second_half)"
   ]
  },
  {
   "cell_type": "code",
   "execution_count": null,
   "id": "e71af244",
   "metadata": {
    "scrolled": true
   },
   "outputs": [],
   "source": [
    "\n",
    "\n",
    "for i in range(len(first_half)):\n",
    "    current_k = first_half[i]\n",
    "    ks_test = [] \n",
    "    x, y, w, v = xy_values('1x0.00049x3e-09-data.npz', current_k)\n",
    "    ks_epsilon = w[::current_k]\n",
    "    ks_x = w[::current_k]\n",
    "    distribution = np.zeros(len(w))\n",
    "    total = trapezoid(w, (w**(2)*v))\n",
    "\n",
    "    for i in range(0,len(distribution)-1):\n",
    "        distribution[0] = 0\n",
    "        sliced = trapezoid(w[0:i+2], (w[0:i+2]**(2)*v[0:i+2]))\n",
    "\n",
    "        a  = sliced/total\n",
    "        distribution[i + 1]  = a\n",
    "\n",
    "    for j in range(len(ks_x)): \n",
    "    \n",
    "        eps_value = ks_epsilon[j]   \n",
    "        x_value = ks_x[j]\n",
    "\n",
    "        rec_distribution = np.zeros(len(x))\n",
    "        total2 = trapezoid(x, x**(2)*y)\n",
    "  \n",
    "        for i in range(0, len(rec_distribution)-1):\n",
    "        \n",
    "            distribution[0] = 0 \n",
    "            sliced2 = trapezoid(x[0:i+2], x[0:i+2]**(2)*y[0:i+2])\n",
    "            b = sliced2/total2 \n",
    "            rec_distribution[i + 1] = b\n",
    "    \n",
    "        diff = abs(rec_distribution - distribution[::current_k])\n",
    "        diff_value = max(diff)\n",
    "        \n",
    "    deviation.append(diff_value)"
   ]
  },
  {
   "cell_type": "code",
   "execution_count": 34,
   "id": "f85695ef",
   "metadata": {},
   "outputs": [
    {
     "data": {
      "image/png": "[encoded data removed]",
      "text/plain": [
       "<Figure size 432x288 with 1 Axes>"
      ]
     },
     "metadata": {
      "needs_background": "light"
     },
     "output_type": "display_data"
    }
   ],
   "source": [
    "plt.figure()\n",
    "plt.plot(k_values, deviation)\n",
    "plt.show()"
   ]
  },
  {
   "cell_type": "code",
   "execution_count": null,
   "id": "dad372fc",
   "metadata": {},
   "outputs": [],
   "source": []
  }
 ],
 "metadata": {
  "kernelspec": {
   "display_name": "Python 3",
   "language": "python",
   "name": "python3"
  }
 },
 "nbformat": 4,
 "nbformat_minor": 5
}
