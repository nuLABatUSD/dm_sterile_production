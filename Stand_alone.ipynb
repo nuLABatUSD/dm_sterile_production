{
 "cells": [
  {
   "cell_type": "code",
   "execution_count": 1,
   "id": "dbb33e69",
   "metadata": {},
   "outputs": [],
   "source": [
    "import numpy as np\n",
    "import matplotlib.pyplot as plt"
   ]
  },
  {
   "cell_type": "code",
   "execution_count": 2,
   "id": "15ee7dc4",
   "metadata": {},
   "outputs": [],
   "source": [
    "def trapezoid(x,y):\n",
    "    N=len(x)\n",
    "    summ = 0\n",
    "    for i in range(N-1):\n",
    "        I = 0.5*(y[i]+ y[i+1])*(x[i+1] - x[i])\n",
    "        summ = summ + I\n",
    "    return summ\n",
    "\n",
    "\n",
    "\n",
    "def right_rectangle(x, y,new_epsilon, new_fe, steps):\n",
    "    \n",
    "    m = steps + 1\n",
    "    area = trapezoid(new_epsilon[0:m],new_epsilon[0:m]**(2)*new_fe[0:m])\n",
    "    y[1] = (area)/((x[1] - x[0])*x[2]**2)\n",
    "    for i in range(1,len(x)-1):\n",
    "        m = steps*i\n",
    "        n = m + 5 \n",
    "        area = trapezoid(new_epsilon[m:n],new_epsilon[m:n]**(2)*new_fe[m:n])\n",
    "        y[i + 1] =(area)/((x[i + 1] - x[i])*x[i + 1]**2)\n",
    "    return y\n",
    "\n",
    "\n",
    "\n",
    "\n",
    "def factors(value, x):\n",
    "    tmp_lst = []\n",
    "    for i in range(1, value + 1):\n",
    "        if value % i == 0:\n",
    "            tmp_lst.append(i) \n",
    "    if x in tmp_lst: \n",
    "        return True\n",
    "    else:\n",
    "        \n",
    "        return False\n",
    "    \n",
    "    \n",
    "def xy_values(file_name, k):\n",
    "    \n",
    "    dat = np.load(file_name)\n",
    "    fe = dat['f_full']\n",
    "    epsilon = dat['eps_full']\n",
    "    \n",
    "    new_epsilon = np.zeros(len(epsilon) + 1)\n",
    "    new_epsilon[1:] = epsilon\n",
    "    new_fe = np.zeros(len(fe) + 1)\n",
    "    new_fe[1:] = fe\n",
    "    \n",
    "    value = epsilon.shape[0]\n",
    "    \n",
    "    a = factors(value, k)\n",
    "    \n",
    "    if a: \n",
    "        x = new_epsilon[::k]\n",
    "        y = np.zeros(len(x))\n",
    "\n",
    "        return x, right_rectangle(x, y, new_epsilon, new_fe, k)\n",
    "        \n",
    "    else:   \n",
    "        raise Exception(str(k) +' is not a factor of ' + str(value))\n"
   ]
  },
  {
   "cell_type": "markdown",
   "id": "544c5a7c",
   "metadata": {},
   "source": [
    "**Looks self-contained w/ the plot. The XY function loads the x and y arrays neccesary to lot the number density spectrum**"
   ]
  },
  {
   "cell_type": "code",
   "execution_count": 3,
   "id": "5401c0e1",
   "metadata": {},
   "outputs": [
    {
     "data": {
      "image/png": "[encoded data removed]",
      "text/plain": [
       "<Figure size 432x288 with 1 Axes>"
      ]
     },
     "metadata": {
      "needs_background": "light"
     },
     "output_type": "display_data"
    }
   ],
   "source": [
    "dat = np.load('1x0.00049x3e-09-data.npz')\n",
    "fe = dat['f_full']\n",
    "epsilon = dat['eps_full']\n",
    "\n",
    "a, b = xy_values('1x0.00049x3e-09-data.npz', 4)\n",
    "\n",
    "plt.figure()\n",
    "plt.plot(epsilon, epsilon**(2)*fe)\n",
    "plt.plot(a, a**(2)*b)\n",
    "plt.xlabel('e^2f')\n",
    "plt.ylabel(\"f\")\n",
    "plt.show() ##proportional to a number density spectrum"
   ]
  },
  {
   "cell_type": "code",
   "execution_count": null,
   "id": "3ff59a3f",
   "metadata": {},
   "outputs": [],
   "source": []
  }
 ],
 "metadata": {
  "kernelspec": {
   "display_name": "Python 3",
   "language": "python",
   "name": "python3"
  },
  "language_info": {
   "codemirror_mode": {
    "name": "ipython",
    "version": 3
   },
   "file_extension": ".py",
   "mimetype": "text/x-python",
   "name": "python",
   "nbconvert_exporter": "python",
   "pygments_lexer": "ipython3",
   "version": "3.7.3"
  }
 },
 "nbformat": 4,
 "nbformat_minor": 5
}
