{
 "cells": [
  {
   "cell_type": "code",
   "execution_count": 16,
   "id": "a7a38773",
   "metadata": {},
   "outputs": [],
   "source": [
    "import matplotlib.pyplot as plt\n",
    "import numpy as np\n",
    "import numba as nb"
   ]
  },
  {
   "cell_type": "code",
   "execution_count": 17,
   "id": "f2885374",
   "metadata": {},
   "outputs": [
    {
     "data": {
      "image/png": "[encoded data removed]",
      "text/plain": [
       "<Figure size 432x288 with 1 Axes>"
      ]
     },
     "metadata": {
      "needs_background": "light"
     },
     "output_type": "display_data"
    }
   ],
   "source": [
    "data = np.load('results.npz')\n",
    "\n",
    "mixangle = data['mixangle']\n",
    "L0 = data['L0']\n",
    "results = data['results']\n",
    "index = data['index']\n",
    "\n",
    "M = np.zeros((len(mixangle), len(L0)))\n",
    "for i in range(len(results)):\n",
    "    M[index[i,0], index[i,1]] = results[i]\n",
    "    \n",
    "plt.figure()\n",
    "plt.contourf(L0*1e3, mixangle, M, levels=[0,0.2, 0.4, 0.6, 0.8, 1])\n",
    "plt.xscale('log')\n",
    "plt.xlabel(r\"Lepton Number $(\\times 10^{-3})$\")\n",
    "plt.ylabel(\"Mixing Angle\")\n",
    "image_format = 'png'\n",
    "image_name = 'contourplot.png'\n",
    "\n",
    "plt.savefig(image_name, format=image_format, dpi=1200)"
   ]
  },
  {
   "cell_type": "code",
   "execution_count": null,
   "id": "3292f420",
   "metadata": {},
   "outputs": [],
   "source": []
  }
 ],
 "metadata": {
  "kernelspec": {
   "display_name": "Python 3 (ipykernel)",
   "language": "python",
   "name": "python3"
  },
  "language_info": {
   "codemirror_mode": {
    "name": "ipython",
    "version": 3
   },
   "file_extension": ".py",
   "mimetype": "text/x-python",
   "name": "python",
   "nbconvert_exporter": "python",
   "pygments_lexer": "ipython3",
   "version": "3.9.13"
  }
 },
 "nbformat": 4,
 "nbformat_minor": 5
}
