{
 "cells": [
  {
   "cell_type": "code",
   "execution_count": 1,
   "id": "e4b84635",
   "metadata": {},
   "outputs": [],
   "source": [
    "import numpy as np\n",
    "from classy import Class\n",
    "from Francisco import trapezoid, right_rectangle, factors, xy_values,xy_values_old\n",
    "import scipy.interpolate as sp\n",
    "import matplotlib.pyplot as plt\n",
    "import os\n",
    "import numpy as np\n",
    "import numba as nb\n",
    "import ODEsolver as solve\n",
    "from run import g, temp, gs, gss\n",
    "from run import with_spline_ODE, steps_taken\n",
    "from Emma import sterile_production"
   ]
  },
  {
   "cell_type": "code",
   "execution_count": 2,
   "id": "79646dfd",
   "metadata": {},
   "outputs": [],
   "source": [
    "M_sol = 1.989e30 # solar mass in kg\n",
    "Mpc = 3.086e22 # Mpc in m\n",
    "c=np.logspace(-11.3,-5, 40)\n",
    "kvec = np.logspace(-4,np.log10(100),100)\n",
    "measured_omegacdm=.1188\n",
    "Sig_8 = 0.811\n",
    "A_s = 2.1e-9"
   ]
  },
  {
   "cell_type": "code",
   "execution_count": 3,
   "id": "2c7c33b4",
   "metadata": {},
   "outputs": [],
   "source": [
    "commonsettings = {\n",
    "          'N_ncdm':1,\n",
    "          'use_ncdm_psd_files': 1,\n",
    "          'm_ncdm': 7100,\n",
    "          'T_ncdm':0.7,\n",
    "          'output':'mPk',\n",
    "          'P_k_max_1/Mpc':100.0,\n",
    "          ## The next line should be uncommented fgor higher precision (but significantly slower running)\n",
    "          'ncdm_fluid_approximation':3,\n",
    "          ## You may uncomment this line to get more info on the ncdm sector from Class:\n",
    "          'background_verbose':1,\n",
    "          'Maximum q':100\n",
    "         } "
   ]
  },
  {
   "cell_type": "code",
   "execution_count": 4,
   "id": "3a73329a",
   "metadata": {},
   "outputs": [],
   "source": [
    "def ideal_sigma8 (spec_file, omega_h_h):\n",
    "    \n",
    "    NH = Class()\n",
    "        #use method .set() to \n",
    "    NH.set(commonsettings)\n",
    "    othersettings = { 'ncdm_psd_filenames': spec_file,\n",
    "                      'omega_cdm': measured_omegacdm - omega_h_h, \n",
    "                      'omega_ncdm': omega_h_h, \n",
    "                      'A_s': 2.1e-9,\n",
    "                    }\n",
    "\n",
    "    #use method .compute() to get data for my specific 'Spec-' file\n",
    "    NH.set(othersettings)\n",
    "    NH.compute()\n",
    "\n",
    "    Sigma8_value = NH.sigma8()\n",
    "    print(\"\",Sigma8_value,\"\")\n",
    "    \n",
    "    ideal_value = ((Sig_8)/(Sigma8_value))**2*(A_s)\n",
    "    \n",
    "    NH.struct_cleanup()\n",
    "    \n",
    "    return ideal_value"
   ]
  },
  {
   "cell_type": "code",
   "execution_count": 5,
   "id": "af02a564",
   "metadata": {},
   "outputs": [],
   "source": [
    "def make_Pk(spec_file,omega_h_h, dict_name):\n",
    "    \n",
    "    kvec = np.logspace(-4,np.log10(100),100)\n",
    "    \n",
    "    \n",
    "    othersettings = { 'ncdm_psd_filenames': spec_file,\n",
    "                      'omega_cdm': measured_omegacdm - omega_h_h, \n",
    "                      'omega_ncdm': omega_h_h, \n",
    "                      'A_s': ideal_sigma8(spec_file, omega_h_h),\n",
    "                    }\n",
    "    \n",
    "    for key, value in othersettings.items():\n",
    "        print(key, ' : ', value)\n",
    "    for key, value in commonsettings.items():\n",
    "        print(key, ' : ', value)\n",
    "    \n",
    "    # array of k values in 1/Mpc\n",
    "\n",
    "\n",
    "    NH = Class()\n",
    "    NH.set(commonsettings)\n",
    "    NH.set(othersettings)\n",
    "    NH.compute()\n",
    "    \n",
    "    new_sig8 = NH.sigma8()\n",
    "    pkNH = [] \n",
    "    \n",
    "        #MPk- Matter Power Spectrum\n",
    "    for k in kvec:\n",
    "        pkNH.append(NH.pk(k,0.))\n",
    "    h = NH.h()\n",
    "    \n",
    "    \n",
    "    \n",
    "    values_dict = {\n",
    "                    'age': NH.age(),\n",
    "                    'h': NH.h(),\n",
    "                    'n_s': NH.n_s(),\n",
    "                    'Neff': NH.Neff(),\n",
    "                    'Omega0_cdm': NH.Omega0_cdm(),\n",
    "                    'Omega0_k': NH.Omega0_k(),\n",
    "                    'Omega0_m': NH.Omega0_m(),\n",
    "                    'Omega_b': NH.Omega_b(),\n",
    "                    'omega_b': NH.omega_b(),\n",
    "                    'Omega_g': NH.Omega_g(),\n",
    "                    'Omega_lambda': NH.Omega_Lambda(),\n",
    "                    'Omega_m': NH.Omega_m(),\n",
    "                    'Omega_r': NH.Omega_r(),\n",
    "                    'rs_drag': NH.rs_drag(),\n",
    "                    'Sigma8': NH.sigma8(),\n",
    "                    'Sigma8_cb': NH.sigma8_cb(),\n",
    "                    'T_cmb': NH.T_cmb(),\n",
    "                    'tau_reio': NH.tau_reio(),\n",
    "                    'theta_s_100': NH.theta_s_100(),\n",
    "                    'theta_star_100': NH.theta_star_100(),\n",
    "                    'pk': pkNH,\n",
    "                    'k':kvec\n",
    "                    }\n",
    "    #this method clears the commonsettings out of the set method, so that we can load a new file \n",
    "    NH.struct_cleanup() \n",
    "    \n",
    "    #saving the dictionary that we created above to a .npz file\n",
    "    np.savez(dict_name + '.npz',Class_values = values_dict)\n",
    "    \n",
    "\n",
    "    np.save(spec_file+ '-Pknew',np.array(pkNH))\n",
    "    np.save(spec_file+'-knew',kvec)\n",
    "    \n",
    "    return new_sig8"
   ]
  },
  {
   "cell_type": "code",
   "execution_count": 112,
   "id": "4c7a9846",
   "metadata": {
    "scrolled": false
   },
   "outputs": [],
   "source": [
    "def trap(f,x):\n",
    "    integral = 0\n",
    "    for i in range(1,len(f)):\n",
    "        integral += 0.5 * (f[i] + f[i-1]) * (x[i] - x[i-1])\n",
    "    return integral\n",
    "\n",
    "def R(M):\n",
    "    c = 2.5\n",
    "    G = 6.67e-11 # m^3 / kg / s^2\n",
    "    H100 = 100 * (1000/Mpc) # km/s/Mpc -> 1/s\n",
    "    omegah2 = 0.1188\n",
    "\n",
    "    rhobar = omegah2 * 3 * H100**2 / (8 * np.pi * G) / M_sol * Mpc**3 # kg / m^3 -> M_sol / Mpc^3\n",
    "    return (3 * M / (4 * np.pi * rhobar * c**3))**(1/3) # Mpc\n",
    "\n",
    "def W(k,R):\n",
    "        if np.isscalar(k):\n",
    "            if k * R > 1:\n",
    "                return 0\n",
    "            else:\n",
    "                return 1\n",
    "        else:\n",
    "            result = np.zeros(len(k))\n",
    "            for i in range(len(k)-1):\n",
    "                if k[i] * R < 1 and k[i+1] * R > 1:\n",
    "                    result[i] = (1 - k[i] * R)/(k[i+1]*R - k[i]*R)\n",
    "                elif k[i] * R < 1:\n",
    "                    result[i] = 1\n",
    "            return result\n",
    "        \n",
    "def S(M,k_vals,Pk_vals):\n",
    "        Rv = R(M)\n",
    "        \n",
    "        integrand = k_vals**2 * Pk_vals * W(k_vals, Rv)**2 / (2 * ( np.pi**2))\n",
    "        return trap(integrand,k_vals)\n",
    "\n",
    "\n",
    "def dNdlnM(M,M0,P_spline, k_vals, Pk_vals):\n",
    "    Rv = R(M)\n",
    "    return 1 / 44.5 / (6 * np.pi**2) * (M0 / M) / Rv**3 / np.sqrt(2 * np.pi * ( S(M,k_vals,Pk_vals) - S(M0,k_vals,Pk_vals))) * P_spline(1/Rv)\n",
    "\n",
    "\n",
    "def integrating(k_vals, Pk_vals, CLASS_data):    \n",
    "\n",
    "    values = np.load(CLASS_data + '.npz', allow_pickle = True)\n",
    "    \n",
    "    h = values['Class_values'].item()['h']\n",
    "    \n",
    "    M0 = 1.77e12/h # M_sol*h^-1\n",
    "    \n",
    "    P_spline  = sp.CubicSpline(k_vals,Pk_vals)\n",
    "    \n",
    "    lnM_vals = np.linspace(np.log(1e8/h),np.log(M0))\n",
    "    sv = np.zeros(len(lnM_vals)-1)\n",
    "    for i in range(len(sv)):\n",
    "        sv[i] = S(np.exp(lnM_vals[i]),k_vals,Pk_vals)- S(np.exp(lnM_vals[-1]),k_vals,Pk_vals)\n",
    "    \n",
    "    integrand = np.zeros(len(lnM_vals)-1)\n",
    "    \n",
    "    for i in range(len(integrand)):\n",
    "        integrand[i] = dNdlnM(np.exp(lnM_vals[i]),M0,P_spline,k_vals,Pk_vals)\n",
    "        \n",
    "    integral = trap(integrand,lnM_vals[:-1])\n",
    "                \n",
    "    return integral, integrand, sv, lnM_vals"
   ]
  },
  {
   "cell_type": "code",
   "execution_count": 113,
   "id": "fd43343b",
   "metadata": {},
   "outputs": [],
   "source": [
    "def Bella_2(file_name, k): ##.npz as first input and step size as the second\n",
    "    \n",
    "    dat = np.load('Neutrino Data/' + file_name)\n",
    "\n",
    "    omega_h_h = dat['omega_h2']\n",
    "    a,b,c,d,e = xy_values(file_name, k)\n",
    "    np.savetxt(\"Spec\", np.column_stack((a,b)))\n",
    "    spec_file  = 'Spec'\n",
    "    \n",
    "    make_Pk(spec_file, omega_h_h,'CLASS_values')\n",
    "    \n",
    "    k_vals = np.load('Spec-knew.npy')\n",
    "    Pk_vals = np.load('Spec-Pknew.npy')\n",
    "    alpha, beta, gamma, delta = integrating(k_vals, Pk_vals, 'CLASS_values')\n",
    "    \n",
    "    return alpha, beta, gamma, delta"
   ]
  },
  {
   "cell_type": "code",
   "execution_count": 82,
   "id": "3e94e7f4",
   "metadata": {
    "scrolled": true
   },
   "outputs": [
    {
     "data": {
      "text/plain": [
       "0.0026648604811727156"
      ]
     },
     "execution_count": 82,
     "metadata": {},
     "output_type": "execute_result"
    },
    {
     "data": {
      "image/png": "[encoded data removed]",
      "text/plain": [
       "<Figure size 432x288 with 1 Axes>"
      ]
     },
     "metadata": {
      "needs_background": "light"
     },
     "output_type": "display_data"
    }
   ],
   "source": [
    "sterile_production(1000, 'electron', 0.0071, 10**(-10), 1e-20, make_plot=True, folder_name = \"Neutrino Data\")"
   ]
  },
  {
   "cell_type": "code",
   "execution_count": 114,
   "id": "58438609",
   "metadata": {},
   "outputs": [
    {
     "name": "stdout",
     "output_type": "stream",
     "text": [
      "electronx1e-20x1e-10.npz\n"
     ]
    }
   ],
   "source": [
    "def file_name():\n",
    "    file_str = []\n",
    "    length = os.listdir('Neutrino Data/')\n",
    "    for i in range(len(length)):\n",
    "        curr = length[i]\n",
    "        file_str.append(curr)\n",
    "    return file_str\n",
    "\n",
    "\n",
    "file_names = file_name()\n",
    "file_name = str(file_names[2])\n",
    "print(file_name)\n",
    "dat = np.load('Neutrino Data/' + file_name)"
   ]
  },
  {
   "cell_type": "code",
   "execution_count": 115,
   "id": "31599f28",
   "metadata": {
    "scrolled": true
   },
   "outputs": [
    {
     "name": "stdout",
     "output_type": "stream",
     "text": [
      " 0.8194957865773755 \n",
      "ncdm_psd_filenames  :  Spec\n",
      "omega_cdm  :  0.11613513951882729\n",
      "omega_ncdm  :  0.0026648604811727156\n",
      "A_s  :  2.05668392274887e-09\n",
      "N_ncdm  :  1\n",
      "use_ncdm_psd_files  :  1\n",
      "m_ncdm  :  7100\n",
      "T_ncdm  :  0.7\n",
      "output  :  mPk\n",
      "P_k_max_1/Mpc  :  100.0\n",
      "ncdm_fluid_approximation  :  3\n",
      "background_verbose  :  1\n",
      "Maximum q  :  100\n"
     ]
    }
   ],
   "source": [
    "w,x,y,z = Bella_2(file_name, 4)"
   ]
  },
  {
   "cell_type": "code",
   "execution_count": 116,
   "id": "fdf60532",
   "metadata": {
    "scrolled": true
   },
   "outputs": [
    {
     "name": "stdout",
     "output_type": "stream",
     "text": [
      "151.16759779058503\n"
     ]
    }
   ],
   "source": [
    "print(w)"
   ]
  },
  {
   "cell_type": "code",
   "execution_count": 117,
   "id": "07847a48",
   "metadata": {},
   "outputs": [],
   "source": [
    "file_name_old = 'Neutrino Data/1x0.00049x3e-09-data.npz'\n",
    "\n",
    "def CDM_make_Pk(spec_file,omega_h_h,dict_name):\n",
    "    \n",
    "    kvec = np.logspace(-4,np.log10(100),100)\n",
    "    \n",
    "    \n",
    "    othersettings = { 'ncdm_psd_filenames': spec_file,\n",
    "                      'omega_cdm': measured_omegacdm - omega_h_h, \n",
    "                      'omega_ncdm': omega_h_h, \n",
    "                      'A_s': ideal_sigma8(spec_file, omega_h_h),\n",
    "                    }\n",
    "    \n",
    "    for key, value in othersettings.items():\n",
    "        print(key, ' : ', value)\n",
    "    for key, value in commonsettings.items():\n",
    "        print(key, ' : ', value)\n",
    "    \n",
    "    # array of k values in 1/Mpc\n",
    "\n",
    "\n",
    "    NH = Class()\n",
    "    NH.set(commonsettings)\n",
    "    NH.set(othersettings)\n",
    "    NH.compute()\n",
    "    \n",
    "    new_sig8 = NH.sigma8()\n",
    "    pkNH = [] \n",
    "    \n",
    "        #MPk- Matter Power Spectrum\n",
    "    for k in kvec:\n",
    "        pkNH.append(NH.pk(k,0.))\n",
    "    h = NH.h()\n",
    "    \n",
    "    \n",
    "    \n",
    "    values_dict = {\n",
    "                    'age': NH.age(),\n",
    "                    'h': NH.h(),\n",
    "                    'n_s': NH.n_s(),\n",
    "                    'Neff': NH.Neff(),\n",
    "                    'Omega0_cdm': NH.Omega0_cdm(),\n",
    "                    'Omega0_k': NH.Omega0_k(),\n",
    "                    'Omega0_m': NH.Omega0_m(),\n",
    "                    'Omega_b': NH.Omega_b(),\n",
    "                    'omega_b': NH.omega_b(),\n",
    "                    'Omega_g': NH.Omega_g(),\n",
    "                    'Omega_lambda': NH.Omega_Lambda(),\n",
    "                    'Omega_m': NH.Omega_m(),\n",
    "                    'Omega_r': NH.Omega_r(),\n",
    "                    'rs_drag': NH.rs_drag(),\n",
    "                    'Sigma8': NH.sigma8(),\n",
    "                    'Sigma8_cb': NH.sigma8_cb(),\n",
    "                    'T_cmb': NH.T_cmb(),\n",
    "                    'tau_reio': NH.tau_reio(),\n",
    "                    'theta_s_100': NH.theta_s_100(),\n",
    "                    'theta_star_100': NH.theta_star_100(),\n",
    "                    'pk': pkNH,\n",
    "                    'k':kvec\n",
    "                    }\n",
    "    #this method clears the commonsettings out of the set method, so that we can load a new file \n",
    "    NH.struct_cleanup() \n",
    "\n",
    "    #saving the dictionary that we created above to a .npz file\n",
    "    np.savez(dict_name + '.npz',Class_values = values_dict)\n",
    "\n",
    "\n",
    "    np.save(spec_file+ '-PknewCDM',np.array(pkNH))\n",
    "    np.save(spec_file+'-knewCDM',kvec)\n",
    "    \n",
    "    return new_sig8\n",
    "\n",
    "\n",
    "\n",
    "\n",
    "\n",
    "\n",
    "def Bella_Old_Structure(file_name, k): \n",
    "    \n",
    "    dat = np.load(file_name)\n",
    "\n",
    "    omega_h_h = dat['omega_s']\n",
    "    a,b,c,d,e = xy_values_old(file_name, k)\n",
    "    np.savetxt(\"Spec\", np.column_stack((a,b)))\n",
    "    spec_file  = 'Spec'\n",
    "    \n",
    "    CDM_make_Pk(spec_file, omega_h_h, 'CDM_CLASS_Values')\n",
    "    \n",
    "    k_vals = np.load('Spec-knewCDM.npy')\n",
    "    \n",
    "    Pk_vals = np.load('Spec-PknewCDM.npy')\n",
    "    \n",
    "    mu, nu, xi, pi = integrating(k_vals,Pk_vals,'CDM_CLASS_Values')\n",
    "    \n",
    "    return mu, nu, xi, pi"
   ]
  },
  {
   "cell_type": "code",
   "execution_count": 118,
   "id": "04c3e53a",
   "metadata": {
    "scrolled": true
   },
   "outputs": [
    {
     "name": "stdout",
     "output_type": "stream",
     "text": [
      " 0.7537938931744148 \n",
      "ncdm_psd_filenames  :  Spec\n",
      "omega_cdm  :  0.05941682610033301\n",
      "omega_ncdm  :  0.05938317389966699\n",
      "A_s  :  2.430836639371758e-09\n",
      "N_ncdm  :  1\n",
      "use_ncdm_psd_files  :  1\n",
      "m_ncdm  :  7100\n",
      "T_ncdm  :  0.7\n",
      "output  :  mPk\n",
      "P_k_max_1/Mpc  :  100.0\n",
      "ncdm_fluid_approximation  :  3\n",
      "background_verbose  :  1\n",
      "Maximum q  :  100\n"
     ]
    }
   ],
   "source": [
    "alpha, beta, gamma, delta = Bella_Old_Structure(file_name_old, 4)"
   ]
  },
  {
   "cell_type": "code",
   "execution_count": 119,
   "id": "891ecb77",
   "metadata": {},
   "outputs": [
    {
     "name": "stdout",
     "output_type": "stream",
     "text": [
      "41.181503945044796\n"
     ]
    }
   ],
   "source": [
    "print(alpha)"
   ]
  },
  {
   "cell_type": "code",
   "execution_count": 120,
   "id": "e29326e6",
   "metadata": {},
   "outputs": [
    {
     "name": "stdout",
     "output_type": "stream",
     "text": [
      "[1.00000000e-04 1.14975700e-04 1.32194115e-04 1.51991108e-04\n",
      " 1.74752840e-04 2.00923300e-04 2.31012970e-04 2.65608778e-04\n",
      " 3.05385551e-04 3.51119173e-04 4.03701726e-04 4.64158883e-04\n",
      " 5.33669923e-04 6.13590727e-04 7.05480231e-04 8.11130831e-04\n",
      " 9.32603347e-04 1.07226722e-03 1.23284674e-03 1.41747416e-03\n",
      " 1.62975083e-03 1.87381742e-03 2.15443469e-03 2.47707636e-03\n",
      " 2.84803587e-03 3.27454916e-03 3.76493581e-03 4.32876128e-03\n",
      " 4.97702356e-03 5.72236766e-03 6.57933225e-03 7.56463328e-03\n",
      " 8.69749003e-03 1.00000000e-02 1.14975700e-02 1.32194115e-02\n",
      " 1.51991108e-02 1.74752840e-02 2.00923300e-02 2.31012970e-02\n",
      " 2.65608778e-02 3.05385551e-02 3.51119173e-02 4.03701726e-02\n",
      " 4.64158883e-02 5.33669923e-02 6.13590727e-02 7.05480231e-02\n",
      " 8.11130831e-02 9.32603347e-02 1.07226722e-01 1.23284674e-01\n",
      " 1.41747416e-01 1.62975083e-01 1.87381742e-01 2.15443469e-01\n",
      " 2.47707636e-01 2.84803587e-01 3.27454916e-01 3.76493581e-01\n",
      " 4.32876128e-01 4.97702356e-01 5.72236766e-01 6.57933225e-01\n",
      " 7.56463328e-01 8.69749003e-01 1.00000000e+00 1.14975700e+00\n",
      " 1.32194115e+00 1.51991108e+00 1.74752840e+00 2.00923300e+00\n",
      " 2.31012970e+00 2.65608778e+00 3.05385551e+00 3.51119173e+00\n",
      " 4.03701726e+00 4.64158883e+00 5.33669923e+00 6.13590727e+00\n",
      " 7.05480231e+00 8.11130831e+00 9.32603347e+00 1.07226722e+01\n",
      " 1.23284674e+01 1.41747416e+01 1.62975083e+01 1.87381742e+01\n",
      " 2.15443469e+01 2.47707636e+01 2.84803587e+01 3.27454916e+01\n",
      " 3.76493581e+01 4.32876128e+01 4.97702356e+01 5.72236766e+01\n",
      " 6.57933225e+01 7.56463328e+01 8.69749003e+01 1.00000000e+02]\n"
     ]
    },
    {
     "data": {
      "image/png": "[encoded data removed]",
      "text/plain": [
       "<Figure size 432x288 with 1 Axes>"
      ]
     },
     "metadata": {
      "needs_background": "light"
     },
     "output_type": "display_data"
    }
   ],
   "source": [
    "values = np.load('CLASS_Values.npz', allow_pickle = True)\n",
    "\n",
    "pk = values['Class_values'].item()['pk']\n",
    "k = values['Class_values'].item()['k']\n",
    "\n",
    "cdm_values = np.load('CDM_CLASS_Values.npz', allow_pickle = True)\n",
    "\n",
    "pk_cdm = cdm_values['Class_values'].item()['pk']\n",
    "k_cdm = cdm_values['Class_values'].item()['k']\n",
    "\n",
    "print(k_cdm)\n",
    "plt.figure()\n",
    "plt.loglog(k_cdm,pk_cdm)\n",
    "plt.loglog(k,pk, linestyle = '--')\n",
    "plt.show()"
   ]
  },
  {
   "cell_type": "code",
   "execution_count": 121,
   "id": "75be78d7",
   "metadata": {},
   "outputs": [],
   "source": [
    "LambdaCDM = Class()\n",
    "LambdaCDM.set({'omega_b':0.022032,'omega_cdm':0.12038,'h':0.67556,'A_s':2.215e-9,'n_s':0.9619,'tau_reio':0.0925})\n",
    "LambdaCDM.set({'output':'tCl,pCl,lCl,mPk','lensing':'yes','P_k_max_1/Mpc':100.0})\n",
    "LambdaCDM.compute()\n",
    "kk = np.logspace(-4,np.log10(100),100)\n",
    "Pk = []\n",
    "h  = LambdaCDM.h()\n",
    "for k in kk: \n",
    "    Pk.append(LambdaCDM.pk(k,0.))\n",
    "\n",
    "    \n",
    "LambdaCDM.struct_cleanup()\n",
    "LambdaCDM.empty() "
   ]
  },
  {
   "cell_type": "code",
   "execution_count": 122,
   "id": "0e0dd16f",
   "metadata": {},
   "outputs": [
    {
     "name": "stdout",
     "output_type": "stream",
     "text": [
      "[1.00000000e-04 1.14975700e-04 1.32194115e-04 1.51991108e-04\n",
      " 1.74752840e-04 2.00923300e-04 2.31012970e-04 2.65608778e-04\n",
      " 3.05385551e-04 3.51119173e-04 4.03701726e-04 4.64158883e-04\n",
      " 5.33669923e-04 6.13590727e-04 7.05480231e-04 8.11130831e-04\n",
      " 9.32603347e-04 1.07226722e-03 1.23284674e-03 1.41747416e-03\n",
      " 1.62975083e-03 1.87381742e-03 2.15443469e-03 2.47707636e-03\n",
      " 2.84803587e-03 3.27454916e-03 3.76493581e-03 4.32876128e-03\n",
      " 4.97702356e-03 5.72236766e-03 6.57933225e-03 7.56463328e-03\n",
      " 8.69749003e-03 1.00000000e-02 1.14975700e-02 1.32194115e-02\n",
      " 1.51991108e-02 1.74752840e-02 2.00923300e-02 2.31012970e-02\n",
      " 2.65608778e-02 3.05385551e-02 3.51119173e-02 4.03701726e-02\n",
      " 4.64158883e-02 5.33669923e-02 6.13590727e-02 7.05480231e-02\n",
      " 8.11130831e-02 9.32603347e-02 1.07226722e-01 1.23284674e-01\n",
      " 1.41747416e-01 1.62975083e-01 1.87381742e-01 2.15443469e-01\n",
      " 2.47707636e-01 2.84803587e-01 3.27454916e-01 3.76493581e-01\n",
      " 4.32876128e-01 4.97702356e-01 5.72236766e-01 6.57933225e-01\n",
      " 7.56463328e-01 8.69749003e-01 1.00000000e+00 1.14975700e+00\n",
      " 1.32194115e+00 1.51991108e+00 1.74752840e+00 2.00923300e+00\n",
      " 2.31012970e+00 2.65608778e+00 3.05385551e+00 3.51119173e+00\n",
      " 4.03701726e+00 4.64158883e+00 5.33669923e+00 6.13590727e+00\n",
      " 7.05480231e+00 8.11130831e+00 9.32603347e+00 1.07226722e+01\n",
      " 1.23284674e+01 1.41747416e+01 1.62975083e+01 1.87381742e+01\n",
      " 2.15443469e+01 2.47707636e+01 2.84803587e+01 3.27454916e+01\n",
      " 3.76493581e+01 4.32876128e+01 4.97702356e+01 5.72236766e+01\n",
      " 6.57933225e+01 7.56463328e+01 8.69749003e+01 1.00000000e+02] [1.00000000e-04 1.14975700e-04 1.32194115e-04 1.51991108e-04\n",
      " 1.74752840e-04 2.00923300e-04 2.31012970e-04 2.65608778e-04\n",
      " 3.05385551e-04 3.51119173e-04 4.03701726e-04 4.64158883e-04\n",
      " 5.33669923e-04 6.13590727e-04 7.05480231e-04 8.11130831e-04\n",
      " 9.32603347e-04 1.07226722e-03 1.23284674e-03 1.41747416e-03\n",
      " 1.62975083e-03 1.87381742e-03 2.15443469e-03 2.47707636e-03\n",
      " 2.84803587e-03 3.27454916e-03 3.76493581e-03 4.32876128e-03\n",
      " 4.97702356e-03 5.72236766e-03 6.57933225e-03 7.56463328e-03\n",
      " 8.69749003e-03 1.00000000e-02 1.14975700e-02 1.32194115e-02\n",
      " 1.51991108e-02 1.74752840e-02 2.00923300e-02 2.31012970e-02\n",
      " 2.65608778e-02 3.05385551e-02 3.51119173e-02 4.03701726e-02\n",
      " 4.64158883e-02 5.33669923e-02 6.13590727e-02 7.05480231e-02\n",
      " 8.11130831e-02 9.32603347e-02 1.07226722e-01 1.23284674e-01\n",
      " 1.41747416e-01 1.62975083e-01 1.87381742e-01 2.15443469e-01\n",
      " 2.47707636e-01 2.84803587e-01 3.27454916e-01 3.76493581e-01\n",
      " 4.32876128e-01 4.97702356e-01 5.72236766e-01 6.57933225e-01\n",
      " 7.56463328e-01 8.69749003e-01 1.00000000e+00 1.14975700e+00\n",
      " 1.32194115e+00 1.51991108e+00 1.74752840e+00 2.00923300e+00\n",
      " 2.31012970e+00 2.65608778e+00 3.05385551e+00 3.51119173e+00\n",
      " 4.03701726e+00 4.64158883e+00 5.33669923e+00 6.13590727e+00\n",
      " 7.05480231e+00 8.11130831e+00 9.32603347e+00 1.07226722e+01\n",
      " 1.23284674e+01 1.41747416e+01 1.62975083e+01 1.87381742e+01\n",
      " 2.15443469e+01 2.47707636e+01 2.84803587e+01 3.27454916e+01\n",
      " 3.76493581e+01 4.32876128e+01 4.97702356e+01 5.72236766e+01\n",
      " 6.57933225e+01 7.56463328e+01 8.69749003e+01 1.00000000e+02]\n"
     ]
    }
   ],
   "source": [
    "print(k_cdm,kk)"
   ]
  },
  {
   "cell_type": "code",
   "execution_count": 123,
   "id": "b44fcb3a",
   "metadata": {},
   "outputs": [
    {
     "data": {
      "image/png": "[encoded data removed]",
      "text/plain": [
       "<Figure size 432x288 with 1 Axes>"
      ]
     },
     "metadata": {
      "needs_background": "light"
     },
     "output_type": "display_data"
    }
   ],
   "source": [
    "plt.figure(2)\n",
    "plt.xscale('log');plt.yscale('log');plt.xlim(kk[0],kk[-1])\n",
    "plt.xlabel(r'$k \\,\\,\\,\\, [h/\\mathrm{Mpc}]$')\n",
    "plt.ylabel(r'$P(k) \\,\\,\\,\\, [\\mathrm{Mpc}/h]^3$')\n",
    "plt.plot(kk,Pk,'b-')\n",
    "plt.savefig('warmup_cltt.pdf')"
   ]
  },
  {
   "cell_type": "code",
   "execution_count": 79,
   "id": "31a3a06e",
   "metadata": {
    "scrolled": false
   },
   "outputs": [
    {
     "data": {
      "text/plain": [
       "<Figure size 432x288 with 0 Axes>"
      ]
     },
     "metadata": {},
     "output_type": "display_data"
    }
   ],
   "source": [
    "plt.savefig('warmup_cltt.pdf')"
   ]
  },
  {
   "cell_type": "code",
   "execution_count": 124,
   "id": "b526816e",
   "metadata": {},
   "outputs": [],
   "source": [
    "def integrating_LCDM(k_vals, Pk_vals):     \n",
    "    \n",
    "    M0 = 1.77e12/h # M_sol*h^-1\n",
    "    \n",
    "    P_spline  = sp.CubicSpline(k_vals,Pk_vals)\n",
    "    \n",
    "    lnM_vals = np.linspace(np.log(1e8),np.log(M0))\n",
    "    sv = np.zeros(len(lnM_vals)-1)\n",
    "    for i in range(len(sv)):\n",
    "        sv[i] = S(np.exp(lnM_vals[i]),k_vals,Pk_vals)- S(np.exp(lnM_vals[-1]),k_vals,Pk_vals)\n",
    "    \n",
    "    integrand = np.zeros(len(lnM_vals)-1)\n",
    "    \n",
    "    for i in range(len(integrand)):\n",
    "        integrand[i] = dNdlnM(np.exp(lnM_vals[i]),M0,P_spline,k_vals,Pk_vals)\n",
    "        \n",
    "    integral = trap(integrand,lnM_vals[:-1])\n",
    "                \n",
    "    return integral, integrand, sv, lnM_vals"
   ]
  },
  {
   "cell_type": "code",
   "execution_count": 125,
   "id": "d3bd00b9",
   "metadata": {
    "scrolled": true
   },
   "outputs": [
    {
     "name": "stdout",
     "output_type": "stream",
     "text": [
      "248.980928008189\n"
     ]
    }
   ],
   "source": [
    "nsh, integrand, sv, lnm_vals = integrating_LCDM(kk,Pk)\n",
    "print(nsh) "
   ]
  },
  {
   "cell_type": "code",
   "execution_count": null,
   "id": "4a9cc73f",
   "metadata": {},
   "outputs": [],
   "source": []
  },
  {
   "cell_type": "code",
   "execution_count": null,
   "id": "dd9dcf06",
   "metadata": {},
   "outputs": [],
   "source": []
  }
 ],
 "metadata": {
  "kernelspec": {
   "display_name": "Python 3",
   "language": "python",
   "name": "python3"
  },
  "language_info": {
   "codemirror_mode": {
    "name": "ipython",
    "version": 3
   },
   "file_extension": ".py",
   "mimetype": "text/x-python",
   "name": "python",
   "nbconvert_exporter": "python",
   "pygments_lexer": "ipython3",
   "version": "3.7.3"
  }
 },
 "nbformat": 4,
 "nbformat_minor": 5
}
