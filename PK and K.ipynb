{
 "cells": [
  {
   "cell_type": "code",
   "execution_count": 1,
   "id": "e4b84635",
   "metadata": {},
   "outputs": [],
   "source": [
    "import numpy as np\n",
    "from classy import Class\n",
    "from Francisco import trapezoid, right_rectangle, factors, xy_values\n",
    "import scipy.interpolate as sp\n",
    "import matplotlib.pyplot as plt\n",
    "import os\n",
    "\n",
    "\n",
    "import matplotlib.pyplot as plt\n",
    "import numpy as np\n",
    "import numba as nb\n",
    "import ODEsolver as solve\n",
    "from run import g, temp, gs, gss\n",
    "from run import with_spline_ODE, steps_taken\n",
    "from Emma import sterile_production"
   ]
  },
  {
   "cell_type": "code",
   "execution_count": 2,
   "id": "79646dfd",
   "metadata": {},
   "outputs": [],
   "source": [
    "M_sol = 1.989e30 # solar mass in kg\n",
    "Mpc = 3.086e22 # Mpc in m\n",
    "c=np.logspace(-11.3,-5, 40)\n",
    "kvec = np.logspace(-4,np.log10(100),100)\n",
    "measured_omegacdm=.1188\n",
    "Sig_8 = 0.811\n",
    "A_s = 2.1e-9"
   ]
  },
  {
   "cell_type": "code",
   "execution_count": 3,
   "id": "2c7c33b4",
   "metadata": {},
   "outputs": [],
   "source": [
    "commonsettings = {\n",
    "          'N_ncdm':1,\n",
    "          'use_ncdm_psd_files': 1,\n",
    "          'm_ncdm': 7100,\n",
    "          'T_ncdm':0.7,\n",
    "          'output':'mPk',\n",
    "          'P_k_max_1/Mpc':100.0,\n",
    "          ## The next line should be uncommented fgor higher precision (but significantly slower running)\n",
    "          'ncdm_fluid_approximation':3,\n",
    "          ## You may uncomment this line to get more info on the ncdm sector from Class:\n",
    "          'background_verbose':1,\n",
    "          'Maximum q':100\n",
    "         } "
   ]
  },
  {
   "cell_type": "code",
   "execution_count": 4,
   "id": "3a73329a",
   "metadata": {},
   "outputs": [],
   "source": [
    "def ideal_sigma8 (spec_file, omega_h_h):\n",
    "    \n",
    "    NH = Class()\n",
    "        #use method .set() to \n",
    "    NH.set(commonsettings)\n",
    "    othersettings = { 'ncdm_psd_filenames': spec_file,\n",
    "                      'omega_cdm': measured_omegacdm - omega_h_h, \n",
    "                      'omega_ncdm': omega_h_h, \n",
    "                      'A_s': 2.1e-9,\n",
    "                    }\n",
    "\n",
    "    #use method .compute() to get data for my specific 'Spec-' file\n",
    "    NH.set(othersettings)\n",
    "    NH.compute()\n",
    "\n",
    "    Sigma8_value = NH.sigma8()\n",
    "    print(\"\",Sigma8_value,\"\")\n",
    "    \n",
    "    ideal_value = ((Sig_8)/(Sigma8_value))**2*(A_s)\n",
    "    \n",
    "    NH.struct_cleanup()\n",
    "    \n",
    "    return ideal_value"
   ]
  },
  {
   "cell_type": "code",
   "execution_count": 5,
   "id": "af02a564",
   "metadata": {},
   "outputs": [],
   "source": [
    "def make_Pk(spec_file,omega_h_h):\n",
    "    \n",
    "    othersettings = { 'ncdm_psd_filenames': spec_file,\n",
    "                      'omega_cdm': measured_omegacdm - omega_h_h, \n",
    "                      'omega_ncdm': omega_h_h, \n",
    "                      'A_s': ideal_sigma8(spec_file, omega_h_h),\n",
    "                    }\n",
    "    \n",
    "    for key, value in othersettings.items():\n",
    "        print(key, ' : ', value)\n",
    "    for key, value in commonsettings.items():\n",
    "        print(key, ' : ', value)\n",
    "    \n",
    "    # array of k values in 1/Mpc\n",
    "\n",
    "\n",
    "    NH = Class()\n",
    "    NH.set(commonsettings)\n",
    "    NH.set(othersettings)\n",
    "    NH.compute()\n",
    "    \n",
    "    new_sig8 = NH.sigma8()\n",
    "    pkNH = [] \n",
    "    \n",
    "        #MPk- Matter Power Spectrum\n",
    "    for k in kvec:\n",
    "        pkNH.append(NH.pk(k,0.))\n",
    "    h = NH.h()\n",
    "    NH.struct_cleanup()\n",
    "    \n",
    "\n",
    "    np.save(spec_file+ '-Pknew',np.array(pkNH))\n",
    "    np.save(spec_file+'-knew',kvec/h)\n",
    "    \n",
    "    return new_sig8"
   ]
  },
  {
   "cell_type": "code",
   "execution_count": 6,
   "id": "4c7a9846",
   "metadata": {
    "scrolled": false
   },
   "outputs": [],
   "source": [
    "def trap(f,x):\n",
    "    integral = 0\n",
    "    for i in range(1,len(f)):\n",
    "        integral += 0.5 * (f[i] + f[i-1]) * (x[i] - x[i-1])\n",
    "    return integral\n",
    "\n",
    "def R(M):\n",
    "    c = 2.5\n",
    "    G = 6.67e-11 # m^3 / kg / s^2\n",
    "    H100 = 100 * (1000/Mpc) # km/s/Mpc -> 1/s\n",
    "    omegah2 = 0.1188\n",
    "\n",
    "    rhobar = omegah2 * 3 * H100**2 / (8 * np.pi * G) / M_sol * Mpc**3 # kg / m^3 -> M_sol / Mpc^3\n",
    "    return (3 * M / (4 * np.pi * rhobar * c**3))**(1/3) # Mpc\n",
    "\n",
    "def W(k,R):\n",
    "        if np.isscalar(k):\n",
    "            if k * R > 1:\n",
    "                return 0\n",
    "            else:\n",
    "                return 1\n",
    "        else:\n",
    "            result = np.zeros(len(k))\n",
    "            for i in range(len(k)):\n",
    "                if k[i] * R < 1 and k[i+1] * R > 1:\n",
    "                    result[i] = (1 - k[i] * R)/(k[i+1]*R - k[i]*R)\n",
    "                elif k[i] * R < 1:\n",
    "                    result[i] = 1\n",
    "            return result\n",
    "        \n",
    "def S(M):\n",
    "        Rv = R(M)\n",
    "        \n",
    "        integrand = k_vals**2 * Pk_vals * W(k_vals, Rv)**2 / (2 * ( np.pi**2))\n",
    "        return trap(integrand,k_vals)\n",
    "\n",
    "\n",
    "def dNdlnM(M):\n",
    "    Rv = R(M)\n",
    "    return 1 / 44.5 / (6 * np.pi**2) * (M0 / M) / Rv**3 / np.sqrt(2 * np.pi * ( S(M) - S(M0))) * P_spline(1/Rv)\n",
    "\n",
    "\n",
    "def Bella_2(file_name, k): ##.npz as first input and step size as the second\n",
    "    \n",
    "    a,b,c,d,e = xy_values(file_name, k)\n",
    "    \n",
    "    dat = np.load('Neutrino Data/' + file_name)\n",
    "\n",
    "    omega_h_h = dat['omega_h2']\n",
    "    a,b,c,d,e = xy_values(file_name, k)\n",
    "    np.savetxt(\"Spec\", np.column_stack((a,b)))\n",
    "    spec_file  = 'Spec'\n",
    "    \n",
    "    make_Pk(spec_file, omega_h_h)\n",
    "    \n",
    "    global k_vals\n",
    "    k_vals = np.load('Spec-knew.npy')\n",
    "    global Pk_vals\n",
    "    Pk_vals = np.load('Spec-Pknew.npy')\n",
    "    \n",
    "\n",
    "    global M0\n",
    "    M0 = 3.2e12 # M_sol / h\n",
    "    global P_spline\n",
    "    P_spline  = sp.CubicSpline(k_vals,Pk_vals)\n",
    "\n",
    "\n",
    "    global ln_vals\n",
    "    lnM_vals = np.linspace(np.log(1e8),np.log(M0))\n",
    "    \n",
    "    sv = np.zeros(len(lnM_vals)-1)\n",
    "    for i in range(len(sv)):\n",
    "        sv[i] = S(np.exp(lnM_vals[i]))- S(np.exp(lnM_vals[-1]))\n",
    "    \n",
    "    integrand = np.zeros(len(lnM_vals)-1)\n",
    "\n",
    "    for i in range(len(integrand)):\n",
    "        integrand[i] = dNdlnM(np.exp(lnM_vals[i]))\n",
    "        \n",
    "    integral = trap(integrand,lnM_vals[:-1])\n",
    "                \n",
    "    return integral, integrand, sv, lnM_vals\n"
   ]
  },
  {
   "cell_type": "code",
   "execution_count": 7,
   "id": "3e94e7f4",
   "metadata": {},
   "outputs": [
    {
     "data": {
      "text/plain": [
       "0.00244599399625019"
      ]
     },
     "execution_count": 7,
     "metadata": {},
     "output_type": "execute_result"
    },
    {
     "data": {
      "image/png": "[encoded data removed]",
      "text/plain": [
       "<Figure size 432x288 with 1 Axes>"
      ]
     },
     "metadata": {
      "needs_background": "light"
     },
     "output_type": "display_data"
    }
   ],
   "source": [
    "sterile_production(1000, 'electron', 0.0071, 10**(-10), 1e-20, make_plot=True, folder_name=\"Neutrino Data\")"
   ]
  },
  {
   "cell_type": "code",
   "execution_count": 8,
   "id": "58438609",
   "metadata": {},
   "outputs": [
    {
     "name": "stdout",
     "output_type": "stream",
     "text": [
      "electronx1e-20x1e-10.npz\n"
     ]
    }
   ],
   "source": [
    "def file_name():\n",
    "    file_str = []\n",
    "    length = os.listdir('Neutrino Data/')\n",
    "    for i in range(len(length)):\n",
    "        curr = length[i]\n",
    "        file_str.append(curr)\n",
    "    return file_str\n",
    "\n",
    "\n",
    "file_names = file_name()\n",
    "file_name = str(file_names[2])\n",
    "print(file_name)\n",
    "dat = np.load('Neutrino Data/' + file_name)"
   ]
  },
  {
   "cell_type": "code",
   "execution_count": 9,
   "id": "31599f28",
   "metadata": {},
   "outputs": [
    {
     "name": "stdout",
     "output_type": "stream",
     "text": [
      " 0.8194849610935495 \n",
      "ncdm_psd_filenames  :  Spec\n",
      "omega_cdm  :  0.11635400600374982\n",
      "omega_ncdm  :  0.00244599399625019\n",
      "A_s  :  2.0567382611361667e-09\n",
      "N_ncdm  :  1\n",
      "use_ncdm_psd_files  :  1\n",
      "m_ncdm  :  7100\n",
      "T_ncdm  :  0.7\n",
      "output  :  mPk\n",
      "P_k_max_1/Mpc  :  100.0\n",
      "ncdm_fluid_approximation  :  3\n",
      "background_verbose  :  1\n",
      "Maximum q  :  100\n"
     ]
    }
   ],
   "source": [
    "w,x,y,z = Bella_2(file_name, 4)"
   ]
  },
  {
   "cell_type": "code",
   "execution_count": 10,
   "id": "fdf60532",
   "metadata": {},
   "outputs": [
    {
     "name": "stdout",
     "output_type": "stream",
     "text": [
      "477.28384742679276\n"
     ]
    }
   ],
   "source": [
    "print(w)"
   ]
  },
  {
   "cell_type": "code",
   "execution_count": 11,
   "id": "9b37a9e5",
   "metadata": {},
   "outputs": [
    {
     "data": {
      "image/png": "[encoded data removed]",
      "text/plain": [
       "<Figure size 432x288 with 1 Axes>"
      ]
     },
     "metadata": {
      "needs_background": "light"
     },
     "output_type": "display_data"
    },
    {
     "name": "stdout",
     "output_type": "stream",
     "text": [
      "[91.91375913 87.12200498 85.48745749 80.81715015 79.31571827 74.77524302\n",
      " 73.3254074  68.98938666 67.53114784 63.45295268 61.99171073 58.16435421\n",
      " 56.70617412 53.11909025 51.66926963 48.31602977 46.88058664 43.75266577\n",
      " 42.33708711 39.42715316 38.03724198 35.33851321 33.97928932 31.48222553\n",
      " 30.15837019 27.85551189 26.57128578 24.45325585 23.21218538 21.26983875\n",
      " 20.07543387 18.30034688 17.15514536 15.53736619 14.44375576 12.9746244\n",
      " 11.93442239 10.60464902  9.61914952  8.41967917  7.49013071  6.41261201\n",
      "  5.5394466   4.57498667  3.75856256  2.89910309  2.13932797  1.37682723\n",
      "  0.67326106]\n",
      "[4.76438075e+02 3.88136582e+02 3.10916745e+02 2.53584827e+02\n",
      " 2.02952667e+02 1.65529553e+02 1.32411088e+02 1.08084350e+02\n",
      " 8.65367750e+01 7.06711665e+01 5.65910820e+01 4.61955939e+01\n",
      " 3.70015231e+01 3.02170238e+01 2.42115710e+01 1.97658489e+01\n",
      " 1.58386140e+01 1.29305416e+01 1.03656361e+01 8.46242269e+00\n",
      " 6.78392610e+00 5.53617895e+00 4.44020576e+00 3.62523334e+00\n",
      " 2.90928321e+00 2.37528034e+00 1.90740090e+00 1.55820146e+00\n",
      " 1.25289514e+00 1.02448537e+00 8.24778531e-01 6.75030413e-01\n",
      " 5.44570198e-01 4.46636034e-01 3.61302954e-01 2.97053545e-01\n",
      " 2.41177237e-01 1.99073460e-01 1.62531137e-01 1.34968089e-01\n",
      " 1.11062067e-01 9.30737530e-02 7.75919830e-02 6.61006979e-02\n",
      " 5.64002775e-02 4.96160659e-02 4.45781283e-02 4.28459153e-02\n",
      " 4.71895539e-02]\n",
      "477.28384742679276\n"
     ]
    },
    {
     "data": {
      "image/png": "[encoded data removed]",
      "text/plain": [
       "<Figure size 432x288 with 1 Axes>"
      ]
     },
     "metadata": {
      "needs_background": "light"
     },
     "output_type": "display_data"
    },
    {
     "name": "stdout",
     "output_type": "stream",
     "text": [
      "477.28384742679276\n"
     ]
    }
   ],
   "source": [
    "plt.figure()\n",
    "plt.semilogy(z[:-1],y)\n",
    "plt.show()\n",
    "print(y)\n",
    "\n",
    "\n",
    "for i in range(len(x)):\n",
    "    x[i] = dNdlnM(np.exp(z[i]))\n",
    "    \n",
    "    \n",
    "print(x)\n",
    "\n",
    "\n",
    "print(w)\n",
    "plt.figure()\n",
    "plt.semilogy(z[:-1],x)\n",
    "plt.show()    \n",
    "\n",
    "\n",
    "\n",
    "print(w) "
   ]
  },
  {
   "cell_type": "code",
   "execution_count": 12,
   "id": "04c3e53a",
   "metadata": {},
   "outputs": [
    {
     "data": {
      "text/plain": [
       "['eps', 'f', 'eps_full', 'f_full', 'omega_s', 'a', 'T', 'Lep']"
      ]
     },
     "execution_count": 12,
     "metadata": {},
     "output_type": "execute_result"
    }
   ],
   "source": [
    "Pure_lambdaCDM = np.load('Neutrino Data/1x0.00049x3e-09-data.npz')\n",
    "Pure_lambdaCDM.files\n",
    "\n",
    "#alpha, beta, gamma, delta = Bella_2(Pure_lambdaCDM,4)"
   ]
  },
  {
   "cell_type": "code",
   "execution_count": null,
   "id": "07847a48",
   "metadata": {},
   "outputs": [],
   "source": []
  }
 ],
 "metadata": {
  "kernelspec": {
   "display_name": "Python 3",
   "language": "python",
   "name": "python3"
  },
  "language_info": {
   "codemirror_mode": {
    "name": "ipython",
    "version": 3
   },
   "file_extension": ".py",
   "mimetype": "text/x-python",
   "name": "python",
   "nbconvert_exporter": "python",
   "pygments_lexer": "ipython3",
   "version": "3.7.3"
  }
 },
 "nbformat": 4,
 "nbformat_minor": 5
}
