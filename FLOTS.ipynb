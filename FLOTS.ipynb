{
 "cells": [
  {
   "cell_type": "code",
   "execution_count": 1,
   "id": "7cc6ddba",
   "metadata": {},
   "outputs": [],
   "source": [
    "import numpy as np\n",
    "import matplotlib.pyplot as plt\n",
    "from classy import Class"
   ]
  },
  {
   "cell_type": "code",
   "execution_count": 2,
   "id": "8d745d39",
   "metadata": {},
   "outputs": [],
   "source": [
    "LambdaCDM = Class()\n",
    "LambdaCDM.set({'omega_b':0.022032,'omega_cdm':0.12038,'h':0.67556,'A_s':2.215e-9,'n_s':0.9619,'tau_reio':0.0925})\n",
    "LambdaCDM.set({'output':'tCl,pCl,lCl,mPk','lensing':'yes','P_k_max_1/Mpc':100.0})\n",
    "LambdaCDM.compute()\n",
    "kk = np.logspace(-4,np.log10(100),100)\n",
    "Pk = []\n",
    "h  = LambdaCDM.h()\n",
    "for k in kk: \n",
    "    Pk.append(LambdaCDM.pk(k,0.))\n",
    "\n",
    "    \n",
    "LambdaCDM.struct_cleanup()\n",
    "LambdaCDM.empty() "
   ]
  },
  {
   "cell_type": "code",
   "execution_count": 3,
   "id": "21a2c394",
   "metadata": {},
   "outputs": [],
   "source": [
    "values = np.load('CLASS_Values.npz', allow_pickle = True)\n",
    "\n",
    "pk = values['Class_values'].item()['pk']\n",
    "k = values['Class_values'].item()['k']\n",
    "\n",
    "cdm_values = np.load('CDM_CLASS_Values.npz', allow_pickle = True)\n",
    "\n",
    "pk_cdm = cdm_values['Class_values'].item()['pk']\n",
    "k_cdm = cdm_values['Class_values'].item()['k']"
   ]
  },
  {
   "cell_type": "code",
   "execution_count": 19,
   "id": "cbe0f2ca",
   "metadata": {},
   "outputs": [],
   "source": [
    "diff_frac = list()\n",
    "for item1, item2 in zip(pk, Pk):\n",
    "    item = (item2 - item1)/item2\n",
    "    diff_frac.append(item)"
   ]
  },
  {
   "cell_type": "code",
   "execution_count": 22,
   "id": "e158c977",
   "metadata": {},
   "outputs": [
    {
     "data": {
      "image/png": "[encoded data removed]",
      "text/plain": [
       "<Figure size 432x288 with 1 Axes>"
      ]
     },
     "metadata": {
      "needs_background": "light"
     },
     "output_type": "display_data"
    }
   ],
   "source": [
    "plt.figure(2)\n",
    "plt.xscale('log');plt.yscale('log');plt.xlim(kk[0],kk[-1])\n",
    "plt.xlabel(r'$k \\,\\,\\,\\, [h/\\mathrm{Mpc}]$')\n",
    "plt.ylabel(r'$P(k) \\,\\,\\,\\, [\\mathrm{Mpc}/h]^3$')\n",
    "plt.plot(kk,Pk,'c-')\n",
    "\n",
    "plt.loglog(k,pk, linestyle = '--')\n",
    "plt.plot(kk,diff_frac)\n",
    "plt.savefig('inital_fig.png')\n",
    "plt.show()"
   ]
  },
  {
   "cell_type": "code",
   "execution_count": null,
   "id": "a17f55dd",
   "metadata": {},
   "outputs": [],
   "source": []
  },
  {
   "cell_type": "code",
   "execution_count": null,
   "id": "38864317",
   "metadata": {},
   "outputs": [],
   "source": []
  }
 ],
 "metadata": {
  "kernelspec": {
   "display_name": "Python 3",
   "language": "python",
   "name": "python3"
  },
  "language_info": {
   "codemirror_mode": {
    "name": "ipython",
    "version": 3
   },
   "file_extension": ".py",
   "mimetype": "text/x-python",
   "name": "python",
   "nbconvert_exporter": "python",
   "pygments_lexer": "ipython3",
   "version": "3.7.3"
  }
 },
 "nbformat": 4,
 "nbformat_minor": 5
}
