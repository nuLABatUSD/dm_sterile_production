{
 "cells": [
  {
   "cell_type": "code",
   "execution_count": 1,
   "id": "e7b8652d",
   "metadata": {},
   "outputs": [],
   "source": [
    "%matplotlib inline\n",
    "import matplotlib.pyplot as plt\n",
    "import numpy as np\n",
    "import ODEsolver as solve\n",
    "import Emma\n",
    "import ipywidgets"
   ]
  },
  {
   "cell_type": "code",
   "execution_count": 2,
   "id": "f83f7a24",
   "metadata": {},
   "outputs": [
    {
     "data": {
      "text/plain": [
       "['T',\n",
       " 'final_distribution',\n",
       " 'epsilon',\n",
       " 'lep_evo',\n",
       " 'a',\n",
       " 't',\n",
       " 'sterile_evo',\n",
       " 'anti_sterile_evo',\n",
       " 'mass_s',\n",
       " 'mixangle_vacuum',\n",
       " 'initial_electron',\n",
       " 'initial_mu',\n",
       " 'initial_tau',\n",
       " 'm',\n",
       " 'scattering_constant',\n",
       " 'flavor_int',\n",
       " 'omega_h2']"
      ]
     },
     "execution_count": 2,
     "metadata": {},
     "output_type": "execute_result"
    }
   ],
   "source": [
    "data= np.load('Neutrino Data/electronx0.00076x1e-10.npz')\n",
    "data.files"
   ]
  },
  {
   "cell_type": "code",
   "execution_count": 90,
   "id": "39803aed",
   "metadata": {},
   "outputs": [],
   "source": [
    "def plot_sin_sq_th_m(eps, T, a):\n",
    "    sm = np.zeros(len(T))\n",
    "    T_cm = 1/a\n",
    "    lep_evo=data['lep_evo']\n",
    "    for i in range(len(T)):\n",
    "        ms = data['mass_s']\n",
    "        sttv = data['mixangle_vacuum']\n",
    "        L = 2*lep_evo[i] + data['initial_mu']/(a[i]**3*T[i]**3) + data['initial_tau']/(a[i]**3*T[i]**3)\n",
    "        r = Emma.rho(data['m'], T[i])\n",
    "        sm[i] = Emma.mixangle_medium(eps, T_cm[i], T[i], ms, sttv, L, r)\n",
    "        \n",
    "    plt.figure()\n",
    "    plt.loglog(T,sm)\n",
    "    plt.xlim(2000,10)\n",
    "    plt.ylabel(r\"$\\sin^2 2 \\theta_m$\")\n",
    "    plt.xlabel(\"T (MeV)\")\n",
    "    plt.ylim(1e-15,1)\n",
    "    plt.show()"
   ]
  },
  {
   "cell_type": "code",
   "execution_count": 91,
   "id": "3f363f1e",
   "metadata": {},
   "outputs": [],
   "source": [
    "#plot_sin_sq_th_m(2, data['T'], data['a'])"
   ]
  },
  {
   "cell_type": "code",
   "execution_count": 92,
   "id": "e4b696d6",
   "metadata": {},
   "outputs": [
    {
     "data": {
      "application/vnd.jupyter.widget-view+json": {
       "model_id": "efecb748e4a04a0fb337e5cc8842e07a",
       "version_major": 2,
       "version_minor": 0
      },
      "text/plain": [
       "interactive(children=(FloatSlider(value=10.0, description='eps', max=20.0, min=0.1), Output()), _dom_classes=(…"
      ]
     },
     "metadata": {},
     "output_type": "display_data"
    },
    {
     "data": {
      "text/plain": [
       "<function __main__.plot_sin_sq_th_m(eps, T, a)>"
      ]
     },
     "execution_count": 92,
     "metadata": {},
     "output_type": "execute_result"
    }
   ],
   "source": [
    "ipywidgets.interact(plot_sin_sq_th_m, eps=(0.1,20,0.1), T = ipywidgets.fixed(data['T']), a = ipywidgets.fixed(data['a']))\n",
    "\n",
    "\n",
    "\n",
    "\n",
    "\n"
   ]
  },
  {
   "cell_type": "code",
   "execution_count": 39,
   "id": "9cc78e1c",
   "metadata": {},
   "outputs": [],
   "source": [
    "blah=np.zeros(5)"
   ]
  },
  {
   "cell_type": "code",
   "execution_count": 40,
   "id": "2b928f05",
   "metadata": {},
   "outputs": [
    {
     "name": "stdout",
     "output_type": "stream",
     "text": [
      "[0. 0. 0. 0. 0.]\n"
     ]
    }
   ],
   "source": [
    "print(blah)"
   ]
  },
  {
   "cell_type": "code",
   "execution_count": 42,
   "id": "3e2f5aac",
   "metadata": {},
   "outputs": [
    {
     "data": {
      "text/plain": [
       "(247,)"
      ]
     },
     "execution_count": 42,
     "metadata": {},
     "output_type": "execute_result"
    }
   ],
   "source": [
    "data['T'].shape"
   ]
  },
  {
   "cell_type": "code",
   "execution_count": 46,
   "id": "fa23fde1",
   "metadata": {},
   "outputs": [
    {
     "name": "stdout",
     "output_type": "stream",
     "text": [
      "<ipywidgets.widgets.interaction.fixed object at 0x1296862d0>\n"
     ]
    }
   ],
   "source": [
    "print(ipywidgets.fixed(1/data['T']))"
   ]
  },
  {
   "cell_type": "code",
   "execution_count": 44,
   "id": "a25eaae3",
   "metadata": {},
   "outputs": [
    {
     "ename": "AttributeError",
     "evalue": "'fixed' object has no attribute 'shape'",
     "output_type": "error",
     "traceback": [
      "\u001b[0;31m---------------------------------------------------------------------------\u001b[0m",
      "\u001b[0;31mAttributeError\u001b[0m                            Traceback (most recent call last)",
      "\u001b[0;32m/var/folders/j5/jhryy6t14pz2qz1n7mhjstwm0000gn/T/ipykernel_78381/226494904.py\u001b[0m in \u001b[0;36m<module>\u001b[0;34m\u001b[0m\n\u001b[0;32m----> 1\u001b[0;31m \u001b[0mT\u001b[0m\u001b[0;34m.\u001b[0m\u001b[0mshape\u001b[0m\u001b[0;34m\u001b[0m\u001b[0;34m\u001b[0m\u001b[0m\n\u001b[0m",
      "\u001b[0;31mAttributeError\u001b[0m: 'fixed' object has no attribute 'shape'"
     ]
    }
   ],
   "source": [
    "T.shape"
   ]
  },
  {
   "cell_type": "code",
   "execution_count": 45,
   "id": "d8d0b8db",
   "metadata": {},
   "outputs": [
    {
     "name": "stdout",
     "output_type": "stream",
     "text": [
      "<ipywidgets.widgets.interaction.fixed object at 0x1299f7410>\n"
     ]
    }
   ],
   "source": [
    "print(T)"
   ]
  },
  {
   "cell_type": "code",
   "execution_count": 83,
   "id": "0ecb8b82",
   "metadata": {},
   "outputs": [],
   "source": [
    "    sm = np.zeros(len(data['T']))\n",
    "    T=data['T']\n",
    "    T_cm = 1/data['a']\n",
    "    a=data['a']\n",
    "    for i in range(len(T)):\n",
    "        ms = data['mass_s']\n",
    "        sttv = data['mixangle_vacuum']\n",
    "        L = 2*data['lep_evo'] + data['initial_mu']/(a[i]**3*T[i]**3) + data['initial_tau']/(a[i]**3*T[i]**3)\n",
    "        r = Emma.rho(data['m'], T[i])\n",
    "        #sm[i] = Emma.mixangle_medium(5, T_cm[i], T[i], ms, sttv, L, r)"
   ]
  },
  {
   "cell_type": "code",
   "execution_count": 85,
   "id": "4896e1fe",
   "metadata": {},
   "outputs": [
    {
     "data": {
      "text/plain": [
       "(247,)"
      ]
     },
     "execution_count": 85,
     "metadata": {},
     "output_type": "execute_result"
    }
   ],
   "source": [
    "sm.shape"
   ]
  },
  {
   "cell_type": "code",
   "execution_count": 86,
   "id": "345e3526",
   "metadata": {},
   "outputs": [
    {
     "data": {
      "text/plain": [
       "(247,)"
      ]
     },
     "execution_count": 86,
     "metadata": {},
     "output_type": "execute_result"
    }
   ],
   "source": [
    "data['lep_evo'].shape"
   ]
  },
  {
   "cell_type": "code",
   "execution_count": null,
   "id": "51f80d52",
   "metadata": {},
   "outputs": [],
   "source": []
  }
 ],
 "metadata": {
  "kernelspec": {
   "display_name": "Python 3 (ipykernel)",
   "language": "python",
   "name": "python3"
  },
  "language_info": {
   "codemirror_mode": {
    "name": "ipython",
    "version": 3
   },
   "file_extension": ".py",
   "mimetype": "text/x-python",
   "name": "python",
   "nbconvert_exporter": "python",
   "pygments_lexer": "ipython3",
   "version": "3.7.13"
  }
 },
 "nbformat": 4,
 "nbformat_minor": 5
}
